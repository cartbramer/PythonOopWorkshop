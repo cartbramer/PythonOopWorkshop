{
 "cells": [
  {
   "cell_type": "code",
   "execution_count": 24,
   "metadata": {},
   "outputs": [],
   "source": [
    "from datetime import datetime\n",
    "from abc import ABC, abstractmethod"
   ]
  },
  {
   "cell_type": "code",
   "execution_count": 6,
   "metadata": {},
   "outputs": [
    {
     "name": "stdout",
     "output_type": "stream",
     "text": [
      "Number of primes: 1230. Calculation took 0.459336 seconds.\n"
     ]
    }
   ],
   "source": [
    "# Recipe without modularisation, functional programming, or object-oriented programming. \n",
    "# Read top-to-bottom. \n",
    "\n",
    "start = datetime.now()\n",
    "\n",
    "n_primes = 0\n",
    "for n in range(1, 10000):\n",
    "    is_prime = True\n",
    "    for i in range(2, n):\n",
    "        if (n % i) == 0 :\n",
    "            is_prime = False\n",
    "            break\n",
    "    if is_prime : \n",
    "        n_primes += 1\n",
    "\n",
    "delta = datetime.now() - start\n",
    "print(f\"Number of primes: {n_primes}. Calculation took {delta.total_seconds()} seconds.\")"
   ]
  },
  {
   "cell_type": "code",
   "execution_count": 7,
   "metadata": {},
   "outputs": [
    {
     "name": "stdout",
     "output_type": "stream",
     "text": [
      "Number of primes: 1230. Calculation took 0.279372 seconds.\n"
     ]
    }
   ],
   "source": [
    "# Bit of modularisation.   \n",
    "\n",
    "def is_prime(n):\n",
    "    for i in range(2,n):\n",
    "       if (n % i) == 0 :\n",
    "           return False\n",
    "    return True\n",
    "\n",
    "def how_many_primes_until(max_number) :\n",
    "    n_primes = 0\n",
    "    for n in range(1, max_number):\n",
    "        if is_prime(n) : \n",
    "            n_primes += 1\n",
    "    return n_primes\n",
    "\n",
    "start = datetime.now()\n",
    "n_primes = how_many_primes_until(10000)\n",
    "delta = datetime.now() - start\n",
    "print(f\"Number of primes: {n_primes}. Calculation took {delta.total_seconds()} seconds.\")"
   ]
  },
  {
   "cell_type": "code",
   "execution_count": 13,
   "metadata": {},
   "outputs": [
    {
     "name": "stdout",
     "output_type": "stream",
     "text": [
      "Number of primes: 1230. Calculation took 0.292345 seconds.\n"
     ]
    }
   ],
   "source": [
    "# Bit of functional programming.\n",
    "\n",
    "def is_prime(n):\n",
    "    for i in range(2,n):\n",
    "       if (n % i) == 0 :\n",
    "           return False\n",
    "    return True\n",
    "\n",
    "def how_many_primes_until(max_number) :\n",
    "    # Some functional programming here. \n",
    "    # Harder to read (arguably), but might be quicker in certain cases. \n",
    "    return len(list(filter(is_prime, range(1, max_number))))\n",
    "\n",
    "start = datetime.now()\n",
    "n_primes = how_many_primes_until(10000)\n",
    "delta = datetime.now() - start\n",
    "print(f\"Number of primes: {n_primes}. Calculation took {delta.total_seconds()} seconds.\")"
   ]
  },
  {
   "cell_type": "code",
   "execution_count": 14,
   "metadata": {},
   "outputs": [
    {
     "name": "stdout",
     "output_type": "stream",
     "text": [
      "Creating PrimeCalculator.\n",
      "Number of primes: 1231. Calculation took 0.289395 seconds.\n",
      "['_BasicPrimeCalculator__is_prime', '__class__', '__delattr__', '__dict__', '__dir__', '__doc__', '__eq__', '__format__', '__ge__', '__getattribute__', '__gt__', '__hash__', '__init__', '__init_subclass__', '__le__', '__lt__', '__module__', '__ne__', '__new__', '__reduce__', '__reduce_ex__', '__repr__', '__setattr__', '__sizeof__', '__str__', '__subclasshook__', '__weakref__', 'how_many_primes_until']\n",
      "False\n"
     ]
    }
   ],
   "source": [
    "# Introduction of a class without state. Uses OO concept of 'encapsulation'. \n",
    "\n",
    "class BasicPrimeCalculator:\n",
    "    \n",
    "    # Constructor\n",
    "    def __init__(self): \n",
    "        print(\"Creating PrimeCalculator.\")\n",
    "    \n",
    "    # Private member function: this \n",
    "    def __is_prime(self, n):\n",
    "        for i in range(2,n):\n",
    "           if (n % i) == 0 :\n",
    "               return False\n",
    "        return True\n",
    "\n",
    "    # Public member function. \n",
    "    def how_many_primes_until(self, max_number) :\n",
    "        return len(list(filter(self.__is_prime, range(max_number))))\n",
    "     \n",
    "start = datetime.now()\n",
    "calculator = BasicPrimeCalculator()\n",
    "n_primes = calculator.how_many_primes_until(10000)\n",
    "delta = datetime.now() - start\n",
    "print(f\"Number of primes: {n_primes}. Calculation took {delta.total_seconds()} seconds.\")\n",
    "\n",
    "# This leads to an error: \n",
    "#print(calculator.__is_prime(155))\n",
    "\n",
    "# This does not. But is not encouraged! \n",
    "print(dir(calculator))\n",
    "print(calculator._BasicPrimeCalculator__is_prime(155))"
   ]
  },
  {
   "cell_type": "code",
   "execution_count": 23,
   "metadata": {},
   "outputs": [
    {
     "name": "stdout",
     "output_type": "stream",
     "text": [
      "Computing primes between 0 and 10000...\n",
      "Number of primes: 1231. Calculation took 0.282268 seconds.\n",
      "Computing primes between 10000 and 20000...\n",
      "Number of primes: 2264. Calculation took 0.778668 seconds.\n",
      "Using cache!\n",
      "Number of primes: 2264. Calculation took 0.0 seconds.\n"
     ]
    }
   ],
   "source": [
    "class CachedPrimeCalculator:\n",
    "    \n",
    "    # Constructor\n",
    "    def __init__(self): \n",
    "        self.highest_tested_number = 0\n",
    "        self.found_primes = []\n",
    "    \n",
    "    # Private member function \n",
    "    def __is_prime(self, n):\n",
    "        for i in range(2,n):\n",
    "           if (n % i) == 0 :\n",
    "               return False\n",
    "        return True\n",
    "    \n",
    "    # Public member function. \n",
    "    def how_many_primes_until(self, max_number) :\n",
    "        if max_number <= self.highest_tested_number:\n",
    "            # Use cache\n",
    "            print(\"Using cache!\")\n",
    "            n_primes = len([ _ for i in self.found_primes if i < max_number])\n",
    "        else :\n",
    "            # Extend cache. \n",
    "            print(f\"Computing primes between {self.highest_tested_number} and {max_number}...\")\n",
    "            self.found_primes.extend(filter(self.__is_prime, range(self.highest_tested_number,max_number)))\n",
    "            self.highest_tested_number = max_number\n",
    "            n_primes = len(self.found_primes)\n",
    "        \n",
    "        return n_primes\n",
    "\n",
    "start = datetime.now()\n",
    "calculator = CachedPrimeCalculator()\n",
    "n_primes = calculator.how_many_primes_until(10000)\n",
    "delta = datetime.now() - start\n",
    "print(f\"Number of primes: {n_primes}. Calculation took {delta.total_seconds()} seconds.\")\n",
    "\n",
    "start = datetime.now()\n",
    "n_primes = calculator.how_many_primes_until(20000)\n",
    "delta = datetime.now() - start\n",
    "print(f\"Number of primes: {n_primes}. Calculation took {delta.total_seconds()} seconds.\")\n",
    "\n",
    "start = datetime.now()\n",
    "n_primes = calculator.how_many_primes_until(20000)\n",
    "delta = datetime.now() - start\n",
    "print(f\"Number of primes: {n_primes}. Calculation took {delta.total_seconds()} seconds.\")\n"
   ]
  },
  {
   "cell_type": "code",
   "execution_count": 28,
   "metadata": {},
   "outputs": [
    {
     "name": "stdout",
     "output_type": "stream",
     "text": [
      "Using BasicPrimeCalculator...\n",
      "Number of primes: 3247. Calculation took 2.316755 seconds.\n",
      "Number of primes: 4205. Calculation took 4.242004 seconds.\n",
      "Using CachedPrimeCalculator\n",
      "Number of primes: 3247. Calculation took 2.475895 seconds.\n",
      "Number of primes: 4205. Calculation took 1.79142 seconds.\n"
     ]
    }
   ],
   "source": [
    "# Use of abstract class to: \n",
    "# - re-use code inside \n",
    "# - make use of the fact that both classes have the same function signatures. \n",
    "\n",
    "class AbstractPrimeCalculator(ABC):\n",
    "    \n",
    "    # PROTECTED member function. Can be used by children. Should not be used by other classes. \n",
    "    # Note the single underscore instead of the double underscore. \n",
    "    def _is_prime(self, n):\n",
    "        for i in range(2,n):\n",
    "           if (n % i) == 0 :\n",
    "               return False\n",
    "        return True\n",
    "    \n",
    "    @abstractmethod\n",
    "    def how_many_primes_until(self, max_number): \n",
    "        pass\n",
    "    \n",
    "class BasicPrimeCalculator(AbstractPrimeCalculator):   # Inheritance!\n",
    "    \n",
    "    # Constructor\n",
    "    def __init__(self): \n",
    "        pass\n",
    "    \n",
    "    # Implements the abstract function as dictated by abstract class. \n",
    "    def how_many_primes_until(self, max_number) :\n",
    "        # This statement uses _is_prime() from the abstract class. \n",
    "        return len(list(filter(self._is_prime, range(max_number))))\n",
    "    \n",
    "class CachedPrimeCalculator(AbstractPrimeCalculator):   # Inheritance!\n",
    "    \n",
    "    # Constructor\n",
    "    def __init__(self): \n",
    "        self.highest_tested_number = 0\n",
    "        self.found_primes = []\n",
    "    \n",
    "    # Implements the abstract function as dictated by abstract class. \n",
    "    def how_many_primes_until(self, max_number) :\n",
    "        if max_number <= self.highest_tested_number:\n",
    "            # Use cache\n",
    "            n_primes = len([ _ for i in self.found_primes if i < max_number])\n",
    "        else :\n",
    "            # Extend cache. \n",
    "            # This statement uses _is_prime() from the abstract class. \n",
    "            self.found_primes.extend(filter(self._is_prime, range(self.highest_tested_number,max_number)))\n",
    "            self.highest_tested_number = max_number\n",
    "            n_primes = len(self.found_primes)\n",
    "        \n",
    "        return n_primes\n",
    "\n",
    "print(\"Using BasicPrimeCalculator...\")\n",
    "start = datetime.now()\n",
    "calculator = BasicPrimeCalculator()\n",
    "n_primes = calculator.how_many_primes_until(30000)\n",
    "delta = datetime.now() - start\n",
    "print(f\"Number of primes: {n_primes}. Calculation took {delta.total_seconds()} seconds.\")\n",
    "\n",
    "start = datetime.now()\n",
    "n_primes = calculator.how_many_primes_until(40000)\n",
    "delta = datetime.now() - start\n",
    "print(f\"Number of primes: {n_primes}. Calculation took {delta.total_seconds()} seconds.\")\n",
    "\n",
    "print(\"Using CachedPrimeCalculator...\")\n",
    "start = datetime.now()\n",
    "calculator = CachedPrimeCalculator()\n",
    "n_primes = calculator.how_many_primes_until(30000)\n",
    "delta = datetime.now() - start\n",
    "print(f\"Number of primes: {n_primes}. Calculation took {delta.total_seconds()} seconds.\")\n",
    "\n",
    "start = datetime.now()\n",
    "n_primes = calculator.how_many_primes_until(40000)\n",
    "delta = datetime.now() - start\n",
    "print(f\"Number of primes: {n_primes}. Calculation took {delta.total_seconds()} seconds.\")\n",
    "\n",
    "# This leads to an error: You can't instantiate an abstract class. \n",
    "#calculator = AbstractPrimeCalculator()\n",
    "#n_primes = calculator.how_many_primes_until(30000)\n"
   ]
  }
 ],
 "metadata": {
  "kernelspec": {
   "display_name": "Python 3",
   "language": "python",
   "name": "python3"
  },
  "language_info": {
   "codemirror_mode": {
    "name": "ipython",
    "version": 3
   },
   "file_extension": ".py",
   "mimetype": "text/x-python",
   "name": "python",
   "nbconvert_exporter": "python",
   "pygments_lexer": "ipython3",
   "version": "3.7.4"
  }
 },
 "nbformat": 4,
 "nbformat_minor": 4
}
